{
  "nbformat": 4,
  "nbformat_minor": 0,
  "metadata": {
    "colab": {
      "provenance": [],
      "name": "speedBreaker.ipynb",
      "gpuType": "T4",
      "include_colab_link": true
    },
    "kernelspec": {
      "name": "python3",
      "display_name": "Python 3"
    },
    "language_info": {
      "name": "python"
    },
    "accelerator": "GPU"
  },
  "cells": [
    {
      "cell_type": "markdown",
      "metadata": {
        "id": "view-in-github",
        "colab_type": "text"
      },
      "source": [
        "<a href=\"https://colab.research.google.com/github/VIVEKPATIL12/DS_Combined/blob/main/speedBreaker.ipynb\" target=\"_parent\"><img src=\"https://colab.research.google.com/assets/colab-badge.svg\" alt=\"Open In Colab\"/></a>"
      ]
    },
    {
      "cell_type": "code",
      "source": [
        "!unzip /content/SpeedBMainCode.zip"
      ],
      "metadata": {
        "id": "FHIP4tdfuGFz"
      },
      "execution_count": null,
      "outputs": []
    },
    {
      "cell_type": "code",
      "source": [
        "import os\n",
        "import cv2\n",
        "import numpy as np\n",
        "from sklearn.model_selection import train_test_split\n",
        "import torch\n",
        "import torch.nn as nn\n",
        "import torch.optim as optim\n",
        "from torch.utils.data import Dataset, DataLoader\n",
        "import torchvision.transforms as transforms\n",
        "import torchvision.models.detection as detection\n",
        "\n",
        "\n"
      ],
      "metadata": {
        "id": "hP-g-FGmtyQy"
      },
      "execution_count": 1,
      "outputs": []
    },
    {
      "cell_type": "code",
      "source": [
        "# Get a list of all image files in the directory\n",
        "image_dir = \"/content/train/images\"\n",
        "image_files = [os.path.join(image_dir, f) for f in os.listdir(image_dir) if f.endswith(\".jpg\") or f.endswith(\".png\")]\n",
        "\n",
        "# Get a list of corresponding label files\n",
        "label_dir = \"/content/train/labels\"\n",
        "label_files = [os.path.join(label_dir, f) for f in os.listdir(label_dir) if f.endswith(\".xml\") or f.endswith(\".txt\")]\n",
        "\n",
        "# Check if the number of image files matches the number of label files\n",
        "assert len(image_files) == len(label_files), \"Number of image files and label files do not match\"\n",
        "\n",
        "# Split the data into training and validation sets\n",
        "train_images, val_images, train_labels, val_labels = train_test_split(image_files, label_files, test_size=0.2, random_state=42)"
      ],
      "metadata": {
        "id": "8h6CWLKWt0Hn"
      },
      "execution_count": null,
      "outputs": []
    },
    {
      "cell_type": "code",
      "source": [
        "class SpeedBreakerDataset(Dataset):\n",
        "    def __init__(self, images, labels, transform=None, max_labels=100):\n",
        "        self.images = images\n",
        "        self.labels = labels\n",
        "        self.transform = transform\n",
        "        self.max_labels = max_labels\n",
        "\n",
        "    def __len__(self):\n",
        "        return len(self.images)\n",
        "\n",
        "    def __getitem__(self, index):\n",
        "        image = cv2.imread(self.images[index])\n",
        "        label_file = self.labels[index]\n",
        "\n",
        "        # Read the label from the file\n",
        "        with open(label_file, 'r') as f:\n",
        "            lines = f.readlines()\n",
        "\n",
        "        labels = []\n",
        "        boxes = []\n",
        "        for line in lines:\n",
        "            values = line.strip().split()\n",
        "            class_label = int(values[0])\n",
        "            x, y, w, h = float(values[1]), float(values[2]), float(values[3]), float(values[4])\n",
        "            labels.append(class_label)\n",
        "            # convert (x, y, w, h) to (x1, y1, x2, y2)\n",
        "            x1 = x - w/2\n",
        "            y1 = y - h/2\n",
        "            x2 = x + w/2\n",
        "            y2 = y + h/2\n",
        "            boxes.append([x1, y1, x2, y2])\n",
        "\n",
        "        target = {\n",
        "            \"boxes\": torch.tensor(boxes, dtype=torch.float32),\n",
        "            \"labels\": torch.tensor(labels, dtype=torch.long),\n",
        "            \"image_id\": torch.tensor([index]),\n",
        "            \"area\": torch.tensor([abs((box[2]-box[0])*(box[3]-box[1])) for box in boxes], dtype=torch.float32),\n",
        "            \"iscrowd\": torch.tensor([0]*len(boxes), dtype=torch.int64)\n",
        "        }\n",
        "\n",
        "        if self.transform:\n",
        "            image = self.transform(image)\n",
        "\n",
        "        return image, target\n",
        "\n",
        "transform = transforms.Compose([transforms.ToTensor(), transforms.Normalize((0.485, 0.456, 0.406), (0.229, 0.224, 0.225))])\n",
        "\n",
        "train_dataset = SpeedBreakerDataset(train_images, train_labels, transform=transform)\n",
        "val_dataset = SpeedBreakerDataset(val_images, val_labels, transform=transform)\n",
        "\n",
        "train_loader = DataLoader(train_dataset, batch_size=16, shuffle=True, collate_fn=lambda x: tuple(map(list, zip(*x))))\n",
        "val_loader = DataLoader(val_dataset, batch_size=16, shuffle=False, collate_fn=lambda x: tuple(map(list, zip(*x))))\n",
        "\n",
        "\n",
        "# Define YOLO model and optimizer\n",
        "model = detection.fasterrcnn_resnet50_fpn(pretrained=True)\n",
        "device = torch.device('cuda' if torch.cuda.is_available() else 'cpu')\n",
        "model.to(device)\n",
        "criterion = nn.CrossEntropyLoss()\n",
        "optimizer = optim.SGD(model.parameters(), lr=0.001, momentum=0.9)\n",
        "\n",
        "# Train YOLO model\n",
        "for epoch in range(10):\n",
        "    model.train()\n",
        "    for images, targets in train_loader:\n",
        "        images = torch.stack(images).to(device)\n",
        "        targets = [{k: v.to(device) for k, v in t.items()} for t in targets]\n",
        "\n",
        "        optimizer.zero_grad()\n",
        "\n",
        "        outputs = model(images, targets)\n",
        "        loss = sum([v for v in outputs.values()])\n",
        "\n",
        "        loss.backward()\n",
        "        optimizer.step()\n",
        "\n",
        "    print(f\"Epoch {epoch+1}, Loss: {loss.item()}\")\n",
        "\n",
        "# Evaluate YOLO model on validation set\n",
        "model.eval()\n",
        "with torch.no_grad():\n",
        "    total_correct = 0\n",
        "    for images, targets in val_loader:\n",
        "        images = torch.stack(images).to(device)\n",
        "        targets = [{k: v.to(device) for k, v in t.items()} for t in targets]\n",
        "\n",
        "        outputs = model(images, targets)\n",
        "        loss = sum([v for v in outputs.values()])\n",
        "\n",
        "        total_correct += 1\n",
        "\n",
        "    accuracy = total_correct / len(val_loader)\n",
        "    print(f\"Validation Accuracy: {accuracy:.2f}%\")\n",
        "\n",
        "# Use trained YOLO model to detect speed breakers\n",
        "def detect_speed_breaker(image_path):\n",
        "    image = cv2.imread(image_path)\n",
        "    (H, W) = image.shape[:2]\n",
        "\n",
        "    model.eval()\n",
        "    with torch.no_grad():\n",
        "        image = transforms.ToTensor()(image)\n",
        "        image = image.unsqueeze(0).to(device)\n",
        "        outputs = model(image)\n",
        "\n",
        "        scores = outputs[0]['scores'].detach().cpu().numpy()\n",
        "        classIDs = outputs[0]['labels'].detach().cpu().numpy()\n",
        "        boxes = outputs[0]['boxes'].detach().cpu().numpy()\n",
        "\n",
        "        for box, score, classID in zip(boxes, scores, classIDs):\n",
        "            if score > 0.5:\n",
        "                (x1, y1, x2, y2) = box.astype(\"int\")\n",
        "                cv2.rectangle(image, (x1, y1), (x2, y2), (0, 255, 0), 2)\n",
        "\n",
        "        cv2.imshow(\"Image\", image)\n",
        "        cv2.waitKey(0)\n",
        "\n",
        "detect_speed_breaker(\"/content/train/images/speedbreakerrefinedone (372).jpg\")\n",
        "\n",
        "torch.save(model.state_dict(), 'yolo_speed_breakerDetector.pth')\n"
      ],
      "metadata": {
        "id": "pfdFoVgttkG8"
      },
      "execution_count": null,
      "outputs": []
    }
  ]
}